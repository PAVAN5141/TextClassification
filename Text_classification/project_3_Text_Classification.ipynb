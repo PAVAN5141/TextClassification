{
  "nbformat": 4,
  "nbformat_minor": 0,
  "metadata": {
    "colab": {
      "name": "project_3_Text_Classification.ipynb",
      "provenance": [],
      "collapsed_sections": []
    },
    "kernelspec": {
      "name": "python3",
      "display_name": "Python 3"
    }
  },
  "cells": [
    {
      "cell_type": "code",
      "metadata": {
        "id": "DYgs_17k2pDZ"
      },
      "source": [
        "#importing the required packages\r\n",
        "\r\n",
        "import os\r\n",
        "import warnings\r\n",
        "import pandas as pd\r\n",
        "import numpy as np \r\n",
        "from tensorflow import keras\r\n",
        "from tensorflow.keras.models import Sequential\r\n",
        "from tensorflow.keras.layers import Dense, Dropout, LSTM, Embedding, Activation, MaxPooling1D, Conv1D, Input \r\n",
        "from tensorflow.keras.preprocessing.sequence import pad_sequences\r\n",
        "from nltk import word_tokenize\r\n",
        "from tensorflow.keras.preprocessing.text import Tokenizer\r\n",
        "from tensorflow.keras.models import Model"
      ],
      "execution_count": 1,
      "outputs": []
    },
    {
      "cell_type": "code",
      "metadata": {
        "colab": {
          "base_uri": "https://localhost:8080/"
        },
        "id": "EDw-2bHPQj5t",
        "outputId": "5454e9cc-c77a-44a3-feb4-ca169bae0e8d"
      },
      "source": [
        "#importing the NLP packages\r\n",
        "import re \r\n",
        "import nltk\r\n",
        "from nltk.corpus import stopwords\r\n",
        "from nltk.stem.lancaster import LancasterStemmer\r\n",
        "nltk.download('punkt')\r\n",
        "nltk.download('stopwords')\r\n",
        "stop= set(stopwords.words('english'))"
      ],
      "execution_count": 2,
      "outputs": [
        {
          "output_type": "stream",
          "text": [
            "[nltk_data] Downloading package punkt to /root/nltk_data...\n",
            "[nltk_data]   Unzipping tokenizers/punkt.zip.\n",
            "[nltk_data] Downloading package stopwords to /root/nltk_data...\n",
            "[nltk_data]   Unzipping corpora/stopwords.zip.\n"
          ],
          "name": "stdout"
        }
      ]
    },
    {
      "cell_type": "code",
      "metadata": {
        "colab": {
          "base_uri": "https://localhost:8080/"
        },
        "id": "H-Vi87_U3fLv",
        "outputId": "c9183c15-56ec-4a81-af7f-4f968a80e41d"
      },
      "source": [
        "#downloading the data\r\n",
        "!wget https://www.dropbox.com/sh/kpf9z73woodfssv/AAAw1_JIzpuVvwteJCma0xMla?dl=0"
      ],
      "execution_count": 3,
      "outputs": [
        {
          "output_type": "stream",
          "text": [
            "--2021-03-04 01:38:39--  https://www.dropbox.com/sh/kpf9z73woodfssv/AAAw1_JIzpuVvwteJCma0xMla?dl=0\n",
            "Resolving www.dropbox.com (www.dropbox.com)... 162.125.5.18, 2620:100:601d:18::a27d:512\n",
            "Connecting to www.dropbox.com (www.dropbox.com)|162.125.5.18|:443... connected.\n",
            "HTTP request sent, awaiting response... 301 Moved Permanently\n",
            "Location: /sh/raw/kpf9z73woodfssv/AAAw1_JIzpuVvwteJCma0xMla [following]\n",
            "--2021-03-04 01:38:39--  https://www.dropbox.com/sh/raw/kpf9z73woodfssv/AAAw1_JIzpuVvwteJCma0xMla\n",
            "Reusing existing connection to www.dropbox.com:443.\n",
            "HTTP request sent, awaiting response... 302 Found\n",
            "Location: https://uc233ca37410e79cc6c556e9722f.dl.dropboxusercontent.com/zip_download_get/AtaOTmWRmsAt5e6MZJbYO0rwkOKXjMi7LUv0ceFospkvV3mHx9i9scHUQwKYTGWvgfFgRhC-a_hwA0vtIZ_ShWMIbDND5iI39z7PF86RuxVi-Q [following]\n",
            "--2021-03-04 01:38:40--  https://uc233ca37410e79cc6c556e9722f.dl.dropboxusercontent.com/zip_download_get/AtaOTmWRmsAt5e6MZJbYO0rwkOKXjMi7LUv0ceFospkvV3mHx9i9scHUQwKYTGWvgfFgRhC-a_hwA0vtIZ_ShWMIbDND5iI39z7PF86RuxVi-Q\n",
            "Resolving uc233ca37410e79cc6c556e9722f.dl.dropboxusercontent.com (uc233ca37410e79cc6c556e9722f.dl.dropboxusercontent.com)... 162.125.5.15, 2620:100:601d:15::a27d:50f\n",
            "Connecting to uc233ca37410e79cc6c556e9722f.dl.dropboxusercontent.com (uc233ca37410e79cc6c556e9722f.dl.dropboxusercontent.com)|162.125.5.15|:443... connected.\n",
            "HTTP request sent, awaiting response... 200 OK\n",
            "Length: 124206982 (118M) [application/zip]\n",
            "Saving to: ‘AAAw1_JIzpuVvwteJCma0xMla?dl=0’\n",
            "\n",
            "AAAw1_JIzpuVvwteJCm 100%[===================>] 118.45M  58.0MB/s    in 2.0s    \n",
            "\n",
            "2021-03-04 01:38:43 (58.0 MB/s) - ‘AAAw1_JIzpuVvwteJCma0xMla?dl=0’ saved [124206982/124206982]\n",
            "\n"
          ],
          "name": "stdout"
        }
      ]
    },
    {
      "cell_type": "code",
      "metadata": {
        "id": "cx5aCqv157R-"
      },
      "source": [
        "#importing the daa \r\n",
        "file =open(r\"/content/AAAw1_JIzpuVvwteJCma0xMla?dl=0\" , \"r\" ,encoding=\"ISO-8859-1\")\r\n"
      ],
      "execution_count": 4,
      "outputs": []
    },
    {
      "cell_type": "code",
      "metadata": {
        "id": "S-vRyIpi6JRo"
      },
      "source": [
        "data = pd.read_csv(file)"
      ],
      "execution_count": 5,
      "outputs": []
    },
    {
      "cell_type": "code",
      "metadata": {
        "colab": {
          "base_uri": "https://localhost:8080/",
          "height": 195
        },
        "id": "VF8Zf6Zi6NDi",
        "outputId": "b36d5da7-dc1d-4bca-9fa9-0ac654d1853e"
      },
      "source": [
        "\r\n",
        "data.tail()"
      ],
      "execution_count": 6,
      "outputs": [
        {
          "output_type": "execute_result",
          "data": {
            "text/html": [
              "<div>\n",
              "<style scoped>\n",
              "    .dataframe tbody tr th:only-of-type {\n",
              "        vertical-align: middle;\n",
              "    }\n",
              "\n",
              "    .dataframe tbody tr th {\n",
              "        vertical-align: top;\n",
              "    }\n",
              "\n",
              "    .dataframe thead th {\n",
              "        text-align: right;\n",
              "    }\n",
              "</style>\n",
              "<table border=\"1\" class=\"dataframe\">\n",
              "  <thead>\n",
              "    <tr style=\"text-align: right;\">\n",
              "      <th></th>\n",
              "      <th>PK\u0003\u0004\u0014</th>\n",
              "      <th>question_text</th>\n",
              "      <th>target</th>\n",
              "    </tr>\n",
              "  </thead>\n",
              "  <tbody>\n",
              "    <tr>\n",
              "      <th>1306119</th>\n",
              "      <td>ffffd48fb36b63db010c</td>\n",
              "      <td>Is foam insulation toxic?</td>\n",
              "      <td>0.0</td>\n",
              "    </tr>\n",
              "    <tr>\n",
              "      <th>1306120</th>\n",
              "      <td>ffffec519fa37cf60c78</td>\n",
              "      <td>How can one start a research project based on ...</td>\n",
              "      <td>0.0</td>\n",
              "    </tr>\n",
              "    <tr>\n",
              "      <th>1306121</th>\n",
              "      <td>ffffed09fedb5088744a</td>\n",
              "      <td>Who wins in a battle between a Wolverine and a...</td>\n",
              "      <td>0.0</td>\n",
              "    </tr>\n",
              "    <tr>\n",
              "      <th>1306122</th>\n",
              "      <td>PK\u0007\bÐÞ¾±´&gt;g\u0007´&gt;g\u0007PK\u0001\u0002\u0014\u0003\u0014</td>\n",
              "      <td>NaN</td>\n",
              "      <td>NaN</td>\n",
              "    </tr>\n",
              "    <tr>\n",
              "      <th>1306123</th>\n",
              "      <td>?g\u0007</td>\n",
              "      <td>NaN</td>\n",
              "      <td>NaN</td>\n",
              "    </tr>\n",
              "  </tbody>\n",
              "</table>\n",
              "</div>"
            ],
            "text/plain": [
              "                           PK\u0003\u0004\u0014  ... target\n",
              "1306119     ffffd48fb36b63db010c  ...    0.0\n",
              "1306120     ffffec519fa37cf60c78  ...    0.0\n",
              "1306121     ffffed09fedb5088744a  ...    0.0\n",
              "1306122  PK\u0007\bÐÞ¾±´>g\u0007´>g\u0007PK\u0001\u0002\u0014\u0003\u0014  ...    NaN\n",
              "1306123                      ?g\u0007  ...    NaN\n",
              "\n",
              "[5 rows x 3 columns]"
            ]
          },
          "metadata": {
            "tags": []
          },
          "execution_count": 6
        }
      ]
    },
    {
      "cell_type": "code",
      "metadata": {
        "colab": {
          "base_uri": "https://localhost:8080/"
        },
        "id": "wkF6tsRl7DqB",
        "outputId": "e6bd24fa-9ba1-4098-cb4e-5d0cccbd2461"
      },
      "source": [
        "#checking the na values\r\n",
        "data.target.isnull().value_counts()"
      ],
      "execution_count": 7,
      "outputs": [
        {
          "output_type": "execute_result",
          "data": {
            "text/plain": [
              "False    1306122\n",
              "True           2\n",
              "Name: target, dtype: int64"
            ]
          },
          "metadata": {
            "tags": []
          },
          "execution_count": 7
        }
      ]
    },
    {
      "cell_type": "code",
      "metadata": {
        "colab": {
          "base_uri": "https://localhost:8080/"
        },
        "id": "ytn_4uG17aKm",
        "outputId": "6c530b99-6246-4963-ebad-508c802e84e2"
      },
      "source": [
        "data.target.value_counts()"
      ],
      "execution_count": 8,
      "outputs": [
        {
          "output_type": "execute_result",
          "data": {
            "text/plain": [
              "0.0    1225312\n",
              "1.0      80810\n",
              "Name: target, dtype: int64"
            ]
          },
          "metadata": {
            "tags": []
          },
          "execution_count": 8
        }
      ]
    },
    {
      "cell_type": "code",
      "metadata": {
        "id": "YfB69YSO7hzO"
      },
      "source": [
        "#dropingout the na values \r\n",
        "data.drop(data.tail(2).index, inplace = True)"
      ],
      "execution_count": 9,
      "outputs": []
    },
    {
      "cell_type": "code",
      "metadata": {
        "colab": {
          "base_uri": "https://localhost:8080/",
          "height": 195
        },
        "id": "3x0cxemvOQW7",
        "outputId": "59fa893c-b55d-446c-f887-57fd77ed169c"
      },
      "source": [
        "#now data is cleaned \r\n",
        "data.tail(5)"
      ],
      "execution_count": 10,
      "outputs": [
        {
          "output_type": "execute_result",
          "data": {
            "text/html": [
              "<div>\n",
              "<style scoped>\n",
              "    .dataframe tbody tr th:only-of-type {\n",
              "        vertical-align: middle;\n",
              "    }\n",
              "\n",
              "    .dataframe tbody tr th {\n",
              "        vertical-align: top;\n",
              "    }\n",
              "\n",
              "    .dataframe thead th {\n",
              "        text-align: right;\n",
              "    }\n",
              "</style>\n",
              "<table border=\"1\" class=\"dataframe\">\n",
              "  <thead>\n",
              "    <tr style=\"text-align: right;\">\n",
              "      <th></th>\n",
              "      <th>PK\u0003\u0004\u0014</th>\n",
              "      <th>question_text</th>\n",
              "      <th>target</th>\n",
              "    </tr>\n",
              "  </thead>\n",
              "  <tbody>\n",
              "    <tr>\n",
              "      <th>1306117</th>\n",
              "      <td>ffffcc4e2331aaf1e41e</td>\n",
              "      <td>What other technical skills do you need as a c...</td>\n",
              "      <td>0.0</td>\n",
              "    </tr>\n",
              "    <tr>\n",
              "      <th>1306118</th>\n",
              "      <td>ffffd431801e5a2f4861</td>\n",
              "      <td>Does MS in ECE have good job prospects in USA ...</td>\n",
              "      <td>0.0</td>\n",
              "    </tr>\n",
              "    <tr>\n",
              "      <th>1306119</th>\n",
              "      <td>ffffd48fb36b63db010c</td>\n",
              "      <td>Is foam insulation toxic?</td>\n",
              "      <td>0.0</td>\n",
              "    </tr>\n",
              "    <tr>\n",
              "      <th>1306120</th>\n",
              "      <td>ffffec519fa37cf60c78</td>\n",
              "      <td>How can one start a research project based on ...</td>\n",
              "      <td>0.0</td>\n",
              "    </tr>\n",
              "    <tr>\n",
              "      <th>1306121</th>\n",
              "      <td>ffffed09fedb5088744a</td>\n",
              "      <td>Who wins in a battle between a Wolverine and a...</td>\n",
              "      <td>0.0</td>\n",
              "    </tr>\n",
              "  </tbody>\n",
              "</table>\n",
              "</div>"
            ],
            "text/plain": [
              "                        PK\u0003\u0004\u0014  ... target\n",
              "1306117  ffffcc4e2331aaf1e41e  ...    0.0\n",
              "1306118  ffffd431801e5a2f4861  ...    0.0\n",
              "1306119  ffffd48fb36b63db010c  ...    0.0\n",
              "1306120  ffffec519fa37cf60c78  ...    0.0\n",
              "1306121  ffffed09fedb5088744a  ...    0.0\n",
              "\n",
              "[5 rows x 3 columns]"
            ]
          },
          "metadata": {
            "tags": []
          },
          "execution_count": 10
        }
      ]
    },
    {
      "cell_type": "code",
      "metadata": {
        "id": "iy2Zs1b3OTBF"
      },
      "source": [
        "#converting float traget value into int\r\n",
        "data.target= [round(a) for a in data.target]"
      ],
      "execution_count": 11,
      "outputs": []
    },
    {
      "cell_type": "code",
      "metadata": {
        "colab": {
          "base_uri": "https://localhost:8080/",
          "height": 195
        },
        "id": "MCDCkL-uPkBd",
        "outputId": "e7694a2c-dd9d-48ff-be47-cbe640e1b17e"
      },
      "source": [
        "data.head()"
      ],
      "execution_count": 12,
      "outputs": [
        {
          "output_type": "execute_result",
          "data": {
            "text/html": [
              "<div>\n",
              "<style scoped>\n",
              "    .dataframe tbody tr th:only-of-type {\n",
              "        vertical-align: middle;\n",
              "    }\n",
              "\n",
              "    .dataframe tbody tr th {\n",
              "        vertical-align: top;\n",
              "    }\n",
              "\n",
              "    .dataframe thead th {\n",
              "        text-align: right;\n",
              "    }\n",
              "</style>\n",
              "<table border=\"1\" class=\"dataframe\">\n",
              "  <thead>\n",
              "    <tr style=\"text-align: right;\">\n",
              "      <th></th>\n",
              "      <th>PK\u0003\u0004\u0014</th>\n",
              "      <th>question_text</th>\n",
              "      <th>target</th>\n",
              "    </tr>\n",
              "  </thead>\n",
              "  <tbody>\n",
              "    <tr>\n",
              "      <th>0</th>\n",
              "      <td>00002165364db923c7e6</td>\n",
              "      <td>How did Quebec nationalists see their province...</td>\n",
              "      <td>0</td>\n",
              "    </tr>\n",
              "    <tr>\n",
              "      <th>1</th>\n",
              "      <td>000032939017120e6e44</td>\n",
              "      <td>Do you have an adopted dog, how would you enco...</td>\n",
              "      <td>0</td>\n",
              "    </tr>\n",
              "    <tr>\n",
              "      <th>2</th>\n",
              "      <td>0000412ca6e4628ce2cf</td>\n",
              "      <td>Why does velocity affect time? Does velocity a...</td>\n",
              "      <td>0</td>\n",
              "    </tr>\n",
              "    <tr>\n",
              "      <th>3</th>\n",
              "      <td>000042bf85aa498cd78e</td>\n",
              "      <td>How did Otto von Guericke used the Magdeburg h...</td>\n",
              "      <td>0</td>\n",
              "    </tr>\n",
              "    <tr>\n",
              "      <th>4</th>\n",
              "      <td>0000455dfa3e01eae3af</td>\n",
              "      <td>Can I convert montra helicon D to a mountain b...</td>\n",
              "      <td>0</td>\n",
              "    </tr>\n",
              "  </tbody>\n",
              "</table>\n",
              "</div>"
            ],
            "text/plain": [
              "                  PK\u0003\u0004\u0014  ... target\n",
              "0  00002165364db923c7e6  ...      0\n",
              "1  000032939017120e6e44  ...      0\n",
              "2  0000412ca6e4628ce2cf  ...      0\n",
              "3  000042bf85aa498cd78e  ...      0\n",
              "4  0000455dfa3e01eae3af  ...      0\n",
              "\n",
              "[5 rows x 3 columns]"
            ]
          },
          "metadata": {
            "tags": []
          },
          "execution_count": 12
        }
      ]
    },
    {
      "cell_type": "code",
      "metadata": {
        "colab": {
          "base_uri": "https://localhost:8080/"
        },
        "id": "09Ka1t4HPobq",
        "outputId": "8e01db54-e00e-4951-cbfb-28fd090fd2cc"
      },
      "source": [
        "data.target.value_counts()"
      ],
      "execution_count": 13,
      "outputs": [
        {
          "output_type": "execute_result",
          "data": {
            "text/plain": [
              "0    1225312\n",
              "1      80810\n",
              "Name: target, dtype: int64"
            ]
          },
          "metadata": {
            "tags": []
          },
          "execution_count": 13
        }
      ]
    },
    {
      "cell_type": "code",
      "metadata": {
        "id": "GXVBbXRsSNX1"
      },
      "source": [
        "from sklearn.model_selection import train_test_split\r\n",
        "train_data , test_data = train_test_split(data, random_state = 42)"
      ],
      "execution_count": 14,
      "outputs": []
    },
    {
      "cell_type": "code",
      "metadata": {
        "colab": {
          "base_uri": "https://localhost:8080/"
        },
        "id": "WS3D_L9GS24K",
        "outputId": "18bad7f0-c261-4fe3-9ad1-120e6cfd4835"
      },
      "source": [
        "np.quantile(len(data.question_text),0.95)"
      ],
      "execution_count": 15,
      "outputs": [
        {
          "output_type": "execute_result",
          "data": {
            "text/plain": [
              "1306122.0"
            ]
          },
          "metadata": {
            "tags": []
          },
          "execution_count": 15
        }
      ]
    },
    {
      "cell_type": "code",
      "metadata": {
        "id": "1mhMYuvMTZ64",
        "colab": {
          "base_uri": "https://localhost:8080/"
        },
        "outputId": "80d0e1bd-e3d7-426e-9306-fb13cd6622cb"
      },
      "source": [
        "#downloading the glove embeddings \r\n",
        "!wget http://nlp.stanford.edu/data/glove.6B.zip"
      ],
      "execution_count": 16,
      "outputs": [
        {
          "output_type": "stream",
          "text": [
            "--2021-03-04 01:39:44--  http://nlp.stanford.edu/data/glove.6B.zip\n",
            "Resolving nlp.stanford.edu (nlp.stanford.edu)... 171.64.67.140\n",
            "Connecting to nlp.stanford.edu (nlp.stanford.edu)|171.64.67.140|:80... connected.\n",
            "HTTP request sent, awaiting response... 302 Found\n",
            "Location: https://nlp.stanford.edu/data/glove.6B.zip [following]\n",
            "--2021-03-04 01:39:44--  https://nlp.stanford.edu/data/glove.6B.zip\n",
            "Connecting to nlp.stanford.edu (nlp.stanford.edu)|171.64.67.140|:443... connected.\n",
            "HTTP request sent, awaiting response... 301 Moved Permanently\n",
            "Location: http://downloads.cs.stanford.edu/nlp/data/glove.6B.zip [following]\n",
            "--2021-03-04 01:39:44--  http://downloads.cs.stanford.edu/nlp/data/glove.6B.zip\n",
            "Resolving downloads.cs.stanford.edu (downloads.cs.stanford.edu)... 171.64.64.22\n",
            "Connecting to downloads.cs.stanford.edu (downloads.cs.stanford.edu)|171.64.64.22|:80... connected.\n",
            "HTTP request sent, awaiting response... 200 OK\n",
            "Length: 862182613 (822M) [application/zip]\n",
            "Saving to: ‘glove.6B.zip’\n",
            "\n",
            "glove.6B.zip        100%[===================>] 822.24M  2.07MB/s    in 6m 55s  \n",
            "\n",
            "2021-03-04 01:46:39 (1.98 MB/s) - ‘glove.6B.zip’ saved [862182613/862182613]\n",
            "\n"
          ],
          "name": "stdout"
        }
      ]
    },
    {
      "cell_type": "code",
      "metadata": {
        "colab": {
          "base_uri": "https://localhost:8080/"
        },
        "id": "0WD5TyAz3pP9",
        "outputId": "b6a8b102-0452-4c09-ad86-26b93398cbc2"
      },
      "source": [
        "! unzip glove*.zip"
      ],
      "execution_count": 33,
      "outputs": [
        {
          "output_type": "stream",
          "text": [
            "Archive:  glove.6B.zip\n",
            "  inflating: glove.6B.50d.txt        \n",
            "  inflating: glove.6B.100d.txt       \n",
            "  inflating: glove.6B.200d.txt       \n",
            "  inflating: glove.6B.300d.txt       \n"
          ],
          "name": "stdout"
        }
      ]
    },
    {
      "cell_type": "code",
      "metadata": {
        "colab": {
          "base_uri": "https://localhost:8080/"
        },
        "id": "RQB81ClF3qGV",
        "outputId": "529ef56f-5503-4a42-81bd-f6c020054177"
      },
      "source": [
        "%ls"
      ],
      "execution_count": 34,
      "outputs": [
        {
          "output_type": "stream",
          "text": [
            "'AAAw1_JIzpuVvwteJCma0xMla?dl=0'   glove.6B.300d.txt   \u001b[0m\u001b[01;34msample_data\u001b[0m/\n",
            " glove.6B.100d.txt                 glove.6B.50d.txt\n",
            " glove.6B.200d.txt                 glove.6B.zip\n"
          ],
          "name": "stdout"
        }
      ]
    },
    {
      "cell_type": "code",
      "metadata": {
        "id": "DgMGktF_4x8S"
      },
      "source": [
        "#creating glove embedding index\r\n",
        "embeddings_index = {}\r\n",
        "glove_input_file = open('/content/glove.6B.300d.txt')\r\n",
        "for line in glove_input_file:\r\n",
        "  values = line.split(' ')\r\n",
        "  word = values[0]\r\n",
        "  coefs = np.asarray(values[1:], dtype='float32')\r\n",
        "  embeddings_index[word] = coefs\r\n",
        "glove_input_file.close()"
      ],
      "execution_count": 35,
      "outputs": []
    },
    {
      "cell_type": "code",
      "metadata": {
        "id": "6fhpspDQLE8w",
        "colab": {
          "base_uri": "https://localhost:8080/"
        },
        "outputId": "428600cb-9e41-4a82-c4b7-770949075423"
      },
      "source": [
        "## Iterate over the data to preprocess by removing stopwords,  \r\n",
        "corpus=[] \r\n",
        "for line in train_data['question_text'].values: \r\n",
        "  line = line.lower()\r\n",
        "  line_by_words = re.findall(r'(?:\\w+)', line, flags = re.UNICODE) # remove punctuation ans split\r\n",
        "  review=[word for word in line_by_words if not word in stop]\r\n",
        "  review=' '.join(review)\r\n",
        "  corpus.append(review)\r\n",
        "print(corpus[0:5])\r\n"
      ],
      "execution_count": 36,
      "outputs": [
        {
          "output_type": "stream",
          "text": [
            "['job prospects mim recent graduate without previous work experience', 'country spiritual', 'females prone goitre', 'contemporary use tree life', 'last months feeling tell someone school feel']\n"
          ],
          "name": "stdout"
        }
      ]
    },
    {
      "cell_type": "code",
      "metadata": {
        "id": "kDsCQi9pL4Ut"
      },
      "source": [
        "#cheking max_sent lenght \r\n",
        "'''sent_lens=[]\r\n",
        "for sent in train_data['question_text']:\r\n",
        "    sent_lens.append(len(word_tokenize(sent)))\r\n",
        "\r\n",
        "np.quantile(sent_lens, 0.95)'''\r\n"
      ],
      "execution_count": null,
      "outputs": []
    },
    {
      "cell_type": "code",
      "metadata": {
        "id": "1aC6MsM2Oyoa"
      },
      "source": [
        "\r\n",
        "#vectorizing the text samples, giving a value to each word\r\n",
        "from tensorflow.keras.preprocessing.text import Tokenizer\r\n",
        "from tensorflow.keras.utils import to_categorical\r\n",
        "\r\n",
        "max_num_words=2000\r\n",
        "max_len = 100\r\n",
        "\r\n",
        "tok = Tokenizer(num_words= max_num_words)\r\n",
        "\r\n",
        "tok.fit_on_texts(corpus)\r\n",
        "\r\n",
        "\r\n",
        "\r\n"
      ],
      "execution_count": 37,
      "outputs": []
    },
    {
      "cell_type": "code",
      "metadata": {
        "id": "nDZ9V8UXVW-M"
      },
      "source": [
        "word_index =tok.word_index"
      ],
      "execution_count": 38,
      "outputs": []
    },
    {
      "cell_type": "code",
      "metadata": {
        "id": "gJEaxjEIUeDL"
      },
      "source": [
        "sequences_data = tok.texts_to_sequences(corpus)"
      ],
      "execution_count": 39,
      "outputs": []
    },
    {
      "cell_type": "code",
      "metadata": {
        "id": "XDMCOZ_YUda8",
        "colab": {
          "base_uri": "https://localhost:8080/"
        },
        "outputId": "6faaed37-7e62-4b42-f65a-36092a75daef"
      },
      "source": [
        "# unique words in a data \r\n",
        "vocab_len=len(tok.index_word.keys())\r\n",
        "vocab_len"
      ],
      "execution_count": 40,
      "outputs": [
        {
          "output_type": "execute_result",
          "data": {
            "text/plain": [
              "170897"
            ]
          },
          "metadata": {
            "tags": []
          },
          "execution_count": 40
        }
      ]
    },
    {
      "cell_type": "code",
      "metadata": {
        "id": "Q9wvnmZlAsXa",
        "colab": {
          "base_uri": "https://localhost:8080/"
        },
        "outputId": "cfb890e6-6ae5-4d65-9c21-61b5b7fb77e7"
      },
      "source": [
        "\r\n",
        "#padding the lists, because all the neural networks require to have inputs of same size and shape  \r\n",
        "from tensorflow.keras.preprocessing import sequence\r\n",
        "\r\n",
        "sequences_matrix_data = pad_sequences(sequences_data,maxlen=max_len)\r\n",
        "print(sequences_matrix_data.shape)"
      ],
      "execution_count": 41,
      "outputs": [
        {
          "output_type": "stream",
          "text": [
            "(979591, 100)\n"
          ],
          "name": "stdout"
        }
      ]
    },
    {
      "cell_type": "code",
      "metadata": {
        "id": "_mEUvXL6bkPH",
        "colab": {
          "base_uri": "https://localhost:8080/"
        },
        "outputId": "6f2913df-6790-4d23-d488-356d3faf8e08"
      },
      "source": [
        "## Iterate over the data to preprocess by removing stopwords,  \r\n",
        "test_corpus=[] \r\n",
        "for line in test_data['question_text'].values: \r\n",
        "  line = line.lower()\r\n",
        "  line_by_words = re.findall(r'(?:\\w+)', line, flags = re.UNICODE) # remove punctuation ans split\r\n",
        "  review=[word for word in line_by_words if not word in stop]\r\n",
        "  review=' '.join(review)\r\n",
        "  test_corpus.append(review)\r\n",
        "print(test_corpus[0:5])\r\n"
      ],
      "execution_count": 42,
      "outputs": [
        {
          "output_type": "stream",
          "text": [
            "['effective classroom management skill technique create good learning environment', 'study abroad 10th class bangladesh', 'make friends college junior', 'download free apk minecraft pocket edition ios iphone', 'like kuvera groww also free online investment platform invest direct mutual funds']\n"
          ],
          "name": "stdout"
        }
      ]
    },
    {
      "cell_type": "code",
      "metadata": {
        "id": "8cbvBP1mbkFj"
      },
      "source": [
        "max_num_words=2000\r\n",
        "max_len = 100\r\n",
        "\r\n",
        "test_tok = Tokenizer(num_words= max_num_words)\r\n",
        "\r\n",
        "test_tok.fit_on_texts(test_corpus)\r\n"
      ],
      "execution_count": 43,
      "outputs": []
    },
    {
      "cell_type": "code",
      "metadata": {
        "id": "GB54eG76bj4x"
      },
      "source": [
        "word_index =test_tok.word_index"
      ],
      "execution_count": 44,
      "outputs": []
    },
    {
      "cell_type": "code",
      "metadata": {
        "id": "EUsuASoFbjsz"
      },
      "source": [
        "test_sequences_data = test_tok.texts_to_sequences(test_corpus)"
      ],
      "execution_count": 45,
      "outputs": []
    },
    {
      "cell_type": "code",
      "metadata": {
        "id": "VKjCQgUwbjaV",
        "colab": {
          "base_uri": "https://localhost:8080/"
        },
        "outputId": "e8bac01b-9983-49c2-ffee-8245114a05cb"
      },
      "source": [
        "vocab_len=len(test_tok.index_word.keys())\r\n",
        "vocab_len"
      ],
      "execution_count": 46,
      "outputs": [
        {
          "output_type": "execute_result",
          "data": {
            "text/plain": [
              "96069"
            ]
          },
          "metadata": {
            "tags": []
          },
          "execution_count": 46
        }
      ]
    },
    {
      "cell_type": "code",
      "metadata": {
        "id": "hjkbm5DMcovl",
        "colab": {
          "base_uri": "https://localhost:8080/"
        },
        "outputId": "879bcf05-271c-49b5-f83d-aef28782de85"
      },
      "source": [
        "#padding the lists, because all the neural networks require to have inputs of same size and shape  \r\n",
        "from tensorflow.keras.preprocessing import sequence\r\n",
        "\r\n",
        "test_sequences_matrix_data = pad_sequences(test_sequences_data,maxlen=max_len)\r\n",
        "print(test_sequences_matrix_data.shape)"
      ],
      "execution_count": 47,
      "outputs": [
        {
          "output_type": "stream",
          "text": [
            "(326531, 100)\n"
          ],
          "name": "stdout"
        }
      ]
    },
    {
      "cell_type": "code",
      "metadata": {
        "id": "IQVdqmu2WvNF"
      },
      "source": [
        "#preparing the embedding matrix\r\n",
        "from keras.layers import Embedding\r\n",
        "from keras.initializers import Constant\r\n",
        "\r\n",
        "#Embedding dimention need to match the embedding index dimimention\r\n",
        "Embedding_dim = embeddings_index.get('a').shape[0]\r\n",
        "num_words = min(max_num_words, len(word_index)) + 1\r\n",
        "\r\n",
        "embedding_matrix = np.zeros((num_words, Embedding_dim))\r\n",
        "for word, i in word_index.items():\r\n",
        "  if i > max_num_words:\r\n",
        "    continue\r\n",
        "  embedding_vector = embeddings_index.get(word)\r\n",
        "    #references the loaded embeddings dictionary\r\n",
        "  if embedding_vector is not None:\r\n",
        "    #word not found in embedding index will be all-zeros\r\n",
        "    embedding_matrix[i] = embedding_vector\r\n",
        "    #load pretrained word embedding into an Embedding layer \r\n",
        "    #note that we set trainable = False so as to keep the embeddings fixed\r\n",
        "embedding_layer = Embedding(num_words,  Embedding_dim , embeddings_initializer=Constant(embedding_matrix), input_length = max_len, trainable = False)\r\n",
        "\r\n"
      ],
      "execution_count": 48,
      "outputs": []
    },
    {
      "cell_type": "code",
      "metadata": {
        "id": "0TsGZV5OfAHG",
        "colab": {
          "base_uri": "https://localhost:8080/",
          "height": 314
        },
        "outputId": "6af692cc-e347-488d-b4a5-475b496bd84f"
      },
      "source": [
        "import matplotlib.pyplot as plt\r\n",
        "#peeking at the embedding matrix values\r\n",
        "print(embedding_matrix.shape)\r\n",
        "\r\n",
        "plt.plot(embedding_matrix[12])\r\n",
        "plt.plot(embedding_matrix[46])\r\n",
        "plt.plot(embedding_matrix[97])\r\n",
        "plt.title('example vectors')"
      ],
      "execution_count": 49,
      "outputs": [
        {
          "output_type": "stream",
          "text": [
            "(2001, 300)\n"
          ],
          "name": "stdout"
        },
        {
          "output_type": "execute_result",
          "data": {
            "text/plain": [
              "Text(0.5, 1.0, 'example vectors')"
            ]
          },
          "metadata": {
            "tags": []
          },
          "execution_count": 49
        },
        {
          "output_type": "display_data",
          "data": {
            "image/png": "[encoded data removed]",
            "text/plain": [
              "<Figure size 432x288 with 1 Axes>"
            ]
          },
          "metadata": {
            "tags": [],
            "needs_background": "light"
          }
        }
      ]
    },
    {
      "cell_type": "code",
      "metadata": {
        "id": "weXN18M93J-w",
        "colab": {
          "base_uri": "https://localhost:8080/"
        },
        "outputId": "00efba3b-214e-4f7a-dcf8-98eeba89bb14"
      },
      "source": [
        "#creating seperate traget data\r\n",
        "y= train_data['target']\r\n",
        "len(sequences_matrix_data),y.shape"
      ],
      "execution_count": 50,
      "outputs": [
        {
          "output_type": "execute_result",
          "data": {
            "text/plain": [
              "(979591, (979591,))"
            ]
          },
          "metadata": {
            "tags": []
          },
          "execution_count": 50
        }
      ]
    },
    {
      "cell_type": "code",
      "metadata": {
        "id": "fb2ES3xf3Q4u"
      },
      "source": [
        "#converting into numpy_array formate\r\n",
        "x_final=np.array(sequences_matrix_data)\r\n",
        "y_final=np.array(y)"
      ],
      "execution_count": 51,
      "outputs": []
    },
    {
      "cell_type": "code",
      "metadata": {
        "id": "Q7hvz_Ij3i2J",
        "colab": {
          "base_uri": "https://localhost:8080/"
        },
        "outputId": "6db479b0-6ba0-4c73-9041-716db157fd3e"
      },
      "source": [
        "x_final.shape,y_final.shape"
      ],
      "execution_count": 52,
      "outputs": [
        {
          "output_type": "execute_result",
          "data": {
            "text/plain": [
              "((979591, 100), (979591,))"
            ]
          },
          "metadata": {
            "tags": []
          },
          "execution_count": 52
        }
      ]
    },
    {
      "cell_type": "code",
      "metadata": {
        "id": "6vTS7FIe3mC0"
      },
      "source": [
        "#spliting the data as we need to validate the data after training\r\n",
        "from sklearn.model_selection import train_test_split\r\n",
        "X_train, X_test, y_train, y_test=train_test_split(x_final, y_final , test_size=0.33, random_state=42)"
      ],
      "execution_count": 53,
      "outputs": []
    },
    {
      "cell_type": "code",
      "metadata": {
        "id": "h3hLBQwm8-WH"
      },
      "source": [
        "#creating a model with CNN, LSTM and with pretrained glove word embedddings \r\n",
        "\r\n",
        "def CNN():\r\n",
        "    inputs = Input(name='inputs',shape=[max_len])\r\n",
        "    \r\n",
        "    layer = Embedding(max_num_words+1,300,input_length=max_len,weights=[embedding_matrix], trainable=False)(inputs)\r\n",
        "    layer = Dropout(0.2)(layer)\r\n",
        "    layer = Conv1D(64, 5, activation = 'relu')(layer)\r\n",
        "    layer = MaxPooling1D(pool_size = 4)(layer)\r\n",
        "    layer = LSTM(64)(layer)\r\n",
        "    layer = Dense(256,name='FC1')(layer)\r\n",
        "    layer = Activation('relu')(layer)\r\n",
        "    layer = Dropout(0.5)(layer)\r\n",
        "    layer = Dense(1,name='out_layer')(layer)\r\n",
        "    layer = Activation('sigmoid')(layer)\r\n",
        "    model = Model(inputs=inputs,outputs=layer)\r\n",
        "    return model"
      ],
      "execution_count": 54,
      "outputs": []
    },
    {
      "cell_type": "code",
      "metadata": {
        "id": "K-tS9kADw860",
        "colab": {
          "base_uri": "https://localhost:8080/"
        },
        "outputId": "4b391e08-9de3-4d21-b203-c724ac263898"
      },
      "source": [
        "model = CNN()\r\n",
        "model.summary()"
      ],
      "execution_count": 55,
      "outputs": [
        {
          "output_type": "stream",
          "text": [
            "Model: \"model\"\n",
            "_________________________________________________________________\n",
            "Layer (type)                 Output Shape              Param #   \n",
            "=================================================================\n",
            "inputs (InputLayer)          [(None, 100)]             0         \n",
            "_________________________________________________________________\n",
            "embedding_1 (Embedding)      (None, 100, 300)          600300    \n",
            "_________________________________________________________________\n",
            "dropout (Dropout)            (None, 100, 300)          0         \n",
            "_________________________________________________________________\n",
            "conv1d (Conv1D)              (None, 96, 64)            96064     \n",
            "_________________________________________________________________\n",
            "max_pooling1d (MaxPooling1D) (None, 24, 64)            0         \n",
            "_________________________________________________________________\n",
            "lstm (LSTM)                  (None, 64)                33024     \n",
            "_________________________________________________________________\n",
            "FC1 (Dense)                  (None, 256)               16640     \n",
            "_________________________________________________________________\n",
            "activation (Activation)      (None, 256)               0         \n",
            "_________________________________________________________________\n",
            "dropout_1 (Dropout)          (None, 256)               0         \n",
            "_________________________________________________________________\n",
            "out_layer (Dense)            (None, 1)                 257       \n",
            "_________________________________________________________________\n",
            "activation_1 (Activation)    (None, 1)                 0         \n",
            "=================================================================\n",
            "Total params: 746,285\n",
            "Trainable params: 145,985\n",
            "Non-trainable params: 600,300\n",
            "_________________________________________________________________\n"
          ],
          "name": "stdout"
        }
      ]
    },
    {
      "cell_type": "code",
      "metadata": {
        "id": "0CgoLp00AjxL"
      },
      "source": [
        "model.compile(loss='binary_crossentropy',optimizer='adam',\r\n",
        "              metrics=['accuracy'])"
      ],
      "execution_count": 56,
      "outputs": []
    },
    {
      "cell_type": "markdown",
      "metadata": {
        "id": "38JVdkwm_M-E"
      },
      "source": [
        ""
      ]
    },
    {
      "cell_type": "code",
      "metadata": {
        "id": "ns339v3Tw58-",
        "colab": {
          "base_uri": "https://localhost:8080/"
        },
        "outputId": "e1490766-1125-47b9-99fe-50db4e330efb"
      },
      "source": [
        "model.fit( X_train,y_train, validation_data=(X_test, y_test), epochs = 2, batch_size=500)"
      ],
      "execution_count": 57,
      "outputs": [
        {
          "output_type": "stream",
          "text": [
            "Epoch 1/2\n",
            "1313/1313 [==============================] - 1269s 963ms/step - loss: 0.2105 - accuracy: 0.9363 - val_loss: 0.1541 - val_accuracy: 0.9456\n",
            "Epoch 2/2\n",
            "1313/1313 [==============================] - 1166s 888ms/step - loss: 0.1554 - accuracy: 0.9457 - val_loss: 0.1507 - val_accuracy: 0.9470\n"
          ],
          "name": "stdout"
        },
        {
          "output_type": "execute_result",
          "data": {
            "text/plain": [
              "<tensorflow.python.keras.callbacks.History at 0x7f49c762e6d0>"
            ]
          },
          "metadata": {
            "tags": []
          },
          "execution_count": 57
        }
      ]
    },
    {
      "cell_type": "code",
      "metadata": {
        "id": "dizv9hbihnyv"
      },
      "source": [
        "test_X=np.array(test_sequences_matrix_data)\r\n",
        "test_y =np.array(test_data.target)"
      ],
      "execution_count": 58,
      "outputs": []
    },
    {
      "cell_type": "markdown",
      "metadata": {
        "id": "Jh05B9-_omK5"
      },
      "source": [
        ""
      ]
    },
    {
      "cell_type": "code",
      "metadata": {
        "id": "I7iQgy_4yo2m"
      },
      "source": [
        "pred_y=model.predict(test_X)"
      ],
      "execution_count": 59,
      "outputs": []
    },
    {
      "cell_type": "code",
      "metadata": {
        "id": "nN63kBE2Isy3"
      },
      "source": [
        "pred_y =(pred_y > .6).astype(int)"
      ],
      "execution_count": 88,
      "outputs": []
    },
    {
      "cell_type": "code",
      "metadata": {
        "id": "2jUvZxL5ogav",
        "colab": {
          "base_uri": "https://localhost:8080/"
        },
        "outputId": "dc5d37bf-d806-4d46-956d-1453797913d9"
      },
      "source": [
        "from sklearn.metrics import confusion_matrix, accuracy_score, roc_auc_score\r\n",
        "confusion_matrix(pred_y, test_y)"
      ],
      "execution_count": 89,
      "outputs": [
        {
          "output_type": "execute_result",
          "data": {
            "text/plain": [
              "array([[303156,  19083],\n",
              "       [  3436,    856]])"
            ]
          },
          "metadata": {
            "tags": []
          },
          "execution_count": 89
        }
      ]
    },
    {
      "cell_type": "code",
      "metadata": {
        "id": "-hVJ-cufoo0A",
        "colab": {
          "base_uri": "https://localhost:8080/"
        },
        "outputId": "d49b88d8-88c9-4ec9-a970-45c826e7d4cf"
      },
      "source": [
        "accuracy_score(pred_y, test_y)"
      ],
      "execution_count": 90,
      "outputs": [
        {
          "output_type": "execute_result",
          "data": {
            "text/plain": [
              "0.9310356443951723"
            ]
          },
          "metadata": {
            "tags": []
          },
          "execution_count": 90
        }
      ]
    },
    {
      "cell_type": "code",
      "metadata": {
        "id": "1RaysOxWKkCE"
      },
      "source": [
        ""
      ],
      "execution_count": 90,
      "outputs": []
    },
    {
      "cell_type": "code",
      "metadata": {
        "id": "pjyzySknKySP"
      },
      "source": [
        ""
      ],
      "execution_count": null,
      "outputs": []
    }
  ]
}